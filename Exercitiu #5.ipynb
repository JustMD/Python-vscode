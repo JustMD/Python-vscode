{
 "cells": [
  {
   "cell_type": "code",
   "execution_count": 19,
   "metadata": {},
   "outputs": [],
   "source": [
    "a = [1, 1, 2, 3, 8, 5, 5, 8, 13, 21, 34, 55, 89]\n",
    "b = [1, 2, 3, 4, 5, 6, 7, 8, 9, 10, 11, 12, 13]"
   ]
  },
  {
   "cell_type": "code",
   "execution_count": 21,
   "metadata": {},
   "outputs": [
    {
     "name": "stdout",
     "output_type": "stream",
     "text": [
      "[1, 2, 3, 8, 5, 13]\n"
     ]
    }
   ],
   "source": [
    "i = 0\n",
    "c = []\n",
    "for a[i] in a :\n",
    "    if a[i] in b :\n",
    "        if a[i] not in c :\n",
    "            c.append(a[i])\n",
    "print(c)"
   ]
  },
  {
   "cell_type": "code",
   "execution_count": 27,
   "metadata": {},
   "outputs": [
    {
     "name": "stdout",
     "output_type": "stream",
     "text": [
      "75\n"
     ]
    }
   ],
   "source": [
    "import random\n",
    "print(random.randint(0,100))\n",
    "\n"
   ]
  },
  {
   "cell_type": "code",
   "execution_count": 55,
   "metadata": {},
   "outputs": [
    {
     "name": "stdout",
     "output_type": "stream",
     "text": [
      "[5, 3, 3, 8, 4, 8, 2, 8, 1, 2, 6, 5]\n",
      "[4, 5, 9, 14, 4, 9, 11, 3, 6, 4, 13, 11]\n",
      "[5, 3, 4, 6]\n"
     ]
    }
   ],
   "source": [
    "import random\n",
    "list1 = []\n",
    "for i in range(12) :\n",
    "    list1.append(random.randrange(0, 9))\n",
    "\n",
    "list2 = []\n",
    "for j in range(12):\n",
    "    list2.append(random.randrange(0,15))\n",
    "print(list1)\n",
    "print(list2)\n",
    "\n",
    "list3 = []\n",
    "\n",
    "for list1[i] in list1 :\n",
    "    if list1[i] in list2 :\n",
    "        if list1[i] not in list3 :\n",
    "            list3.append(list1[i])\n",
    "print(list3)\n",
    "    "
   ]
  },
  {
   "cell_type": "code",
   "execution_count": null,
   "metadata": {},
   "outputs": [],
   "source": []
  }
 ],
 "metadata": {
  "kernelspec": {
   "display_name": "Python 3",
   "language": "python",
   "name": "python3"
  },
  "language_info": {
   "codemirror_mode": {
    "name": "ipython",
    "version": 3
   },
   "file_extension": ".py",
   "mimetype": "text/x-python",
   "name": "python",
   "nbconvert_exporter": "python",
   "pygments_lexer": "ipython3",
   "version": "3.6.5"
  }
 },
 "nbformat": 4,
 "nbformat_minor": 2
}
