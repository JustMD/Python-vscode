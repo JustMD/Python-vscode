{
 "cells": [
  {
   "cell_type": "code",
   "execution_count": 8,
   "metadata": {},
   "outputs": [
    {
     "name": "stdout",
     "output_type": "stream",
     "text": [
      "enter your name: Madalin\n",
      "input your age: 28\n",
      "enter a number: 3\n",
      "Madalin you will be 100 years old in the year of: 2090\n",
      "Madalin you will be 100 years old in the year of: 2090\n",
      "Madalin you will be 100 years old in the year of: 2090\n",
      "\n"
     ]
    }
   ],
   "source": [
    "text = input(\"enter your name: \")\n",
    "age = int(input(\"input your age: \"))\n",
    "age_100 = str((2018 -age) +100)\n",
    "\n",
    "number = input(\"enter a number: \")\n",
    "number = int(number)\n",
    "print( (text + \" you will be 100 years old in the year of: \"+ age_100 + \"\\n\") * number) \n"
   ]
  },
  {
   "cell_type": "code",
   "execution_count": null,
   "metadata": {},
   "outputs": [],
   "source": []
  },
  {
   "cell_type": "code",
   "execution_count": null,
   "metadata": {},
   "outputs": [],
   "source": []
  }
 ],
 "metadata": {
  "kernelspec": {
   "display_name": "Python 3",
   "language": "python",
   "name": "python3"
  },
  "language_info": {
   "codemirror_mode": {
    "name": "ipython",
    "version": 3
   },
   "file_extension": ".py",
   "mimetype": "text/x-python",
   "name": "python",
   "nbconvert_exporter": "python",
   "pygments_lexer": "ipython3",
   "version": "3.6.5"
  }
 },
 "nbformat": 4,
 "nbformat_minor": 2
}
