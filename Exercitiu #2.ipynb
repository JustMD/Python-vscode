{
 "cells": [
  {
   "cell_type": "code",
   "execution_count": 14,
   "metadata": {},
   "outputs": [
    {
     "name": "stdout",
     "output_type": "stream",
     "text": [
      "Enter a number: 6\n",
      "Even number\n",
      "Number to check: 3\n",
      "6 is multiple of 3\n"
     ]
    }
   ],
   "source": [
    "check = int(input(\"Enter a number: \"))\n",
    "\n",
    "if check % 2 == 0 :\n",
    "    print(\"Even number\")\n",
    "    if check % 4 == 0 :\n",
    "        print(\"number is multiple of 4\")\n",
    "else:\n",
    "    print(\"Odd number\")\n",
    "\n",
    "num = int(input(\"Number to check: \")) \n",
    "\n",
    "if check % num == 0 :\n",
    "    print(check, \"is multiple of\", num)"
   ]
  },
  {
   "cell_type": "code",
   "execution_count": null,
   "metadata": {},
   "outputs": [],
   "source": []
  },
  {
   "cell_type": "code",
   "execution_count": null,
   "metadata": {},
   "outputs": [],
   "source": []
  }
 ],
 "metadata": {
  "kernelspec": {
   "display_name": "Python 3",
   "language": "python",
   "name": "python3"
  },
  "language_info": {
   "codemirror_mode": {
    "name": "ipython",
    "version": 3
   },
   "file_extension": ".py",
   "mimetype": "text/x-python",
   "name": "python",
   "nbconvert_exporter": "python",
   "pygments_lexer": "ipython3",
   "version": "3.6.5"
  }
 },
 "nbformat": 4,
 "nbformat_minor": 2
}
