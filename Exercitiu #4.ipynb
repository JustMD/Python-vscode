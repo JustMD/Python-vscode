{
 "cells": [
  {
   "cell_type": "code",
   "execution_count": 9,
   "metadata": {},
   "outputs": [
    {
     "name": "stdout",
     "output_type": "stream",
     "text": [
      "Enter a number to fin out all its divisors: 1288\n",
      "[1, 2, 4, 7, 8, 14, 23, 28, 46, 56, 92, 161, 184, 322, 644, 1288]\n"
     ]
    }
   ],
   "source": [
    "number = int(input(\"Enter a number to fin out all its divisors: \"))\n",
    "a = []\n",
    "\n",
    "for i in range(1, number+1) :\n",
    "    if number % i == 0 :\n",
    "        a.append(i)\n",
    "        i += 1\n",
    "print(a)"
   ]
  },
  {
   "cell_type": "code",
   "execution_count": null,
   "metadata": {},
   "outputs": [],
   "source": []
  }
 ],
 "metadata": {
  "kernelspec": {
   "display_name": "Python 3",
   "language": "python",
   "name": "python3"
  },
  "language_info": {
   "codemirror_mode": {
    "name": "ipython",
    "version": 3
   },
   "file_extension": ".py",
   "mimetype": "text/x-python",
   "name": "python",
   "nbconvert_exporter": "python",
   "pygments_lexer": "ipython3",
   "version": "3.6.5"
  }
 },
 "nbformat": 4,
 "nbformat_minor": 2
}
